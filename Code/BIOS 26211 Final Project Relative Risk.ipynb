{
 "cells": [
  {
   "cell_type": "code",
   "execution_count": null,
   "id": "850a6f65",
   "metadata": {},
   "outputs": [],
   "source": [
    "\n",
    "import numpy as np\n",
    "import pandas as pd\n",
    "from scipy.stats import fisher_exact\n",
    "from scipy.stats.contingency import relative_risk\n",
    "\n"
   ]
  },
  {
   "cell_type": "markdown",
   "id": "b39c875d",
   "metadata": {},
   "source": [
    "\n",
    "# YOUNG DOGS\n"
   ]
  },
  {
   "cell_type": "markdown",
   "id": "7e3f7328",
   "metadata": {},
   "source": [
    "### Data"
   ]
  },
  {
   "cell_type": "code",
   "execution_count": 68,
   "id": "ea8a1c3b",
   "metadata": {},
   "outputs": [
    {
     "name": "stdout",
     "output_type": "stream",
     "text": [
      "      101  102  104  107  108  109  110  111  112  115  ...  1812  1813  1815  \\\n",
      "0       0    0    0    0    0    0    0    0    0    0  ...     0     0     0   \n",
      "1       0    0    0    0    0    0    0    0    0    0  ...     0     0     0   \n",
      "2       0    0    0    0    0    0    0    0    0    0  ...     0     0     0   \n",
      "3       0    0    0    0    0    0    0    0    0    0  ...     0     0     0   \n",
      "4       0    0    0    0    0    0    0    0    0    0  ...     0     0     0   \n",
      "...   ...  ...  ...  ...  ...  ...  ...  ...  ...  ...  ...   ...   ...   ...   \n",
      "6219    0    0    0    0    1    0    0    0    0    0  ...     0     0     0   \n",
      "6220    0    0    0    0    0    0    0    0    0    0  ...     0     0     0   \n",
      "6221    0    0    0    0    0    0    0    0    0    0  ...     0     0     0   \n",
      "6222    0    0    0    0    0    0    0    0    0    0  ...     0     0     0   \n",
      "6223    0    0    0    0    0    0    0    0    0    0  ...     0     0     0   \n",
      "\n",
      "      1816  1817  1898  1998  hs_cancer_types_histiocytoma  \\\n",
      "0        0     0     0     0                             0   \n",
      "1        0     0     0     0                             0   \n",
      "2        0     0     0     0                             0   \n",
      "3        0     0     0     0                             0   \n",
      "4        0     0     0     0                             0   \n",
      "...    ...   ...   ...   ...                           ...   \n",
      "6219     0     0     0     0                             0   \n",
      "6220     0     0     0     0                             0   \n",
      "6221     0     0     0     0                             0   \n",
      "6222     0     0     0     0                             0   \n",
      "6223     0     0     0     0                             0   \n",
      "\n",
      "      hs_cancer_types_mast_cell_tumor  hs_cancer_types_unknown  \n",
      "0                                   0                        0  \n",
      "1                                   0                        0  \n",
      "2                                   0                        0  \n",
      "3                                   0                        0  \n",
      "4                                   0                        0  \n",
      "...                               ...                      ...  \n",
      "6219                                0                        0  \n",
      "6220                                0                        0  \n",
      "6221                                0                        0  \n",
      "6222                                0                        0  \n",
      "6223                                0                        0  \n",
      "\n",
      "[6224 rows x 144 columns]\n",
      "['101' '102' '104' '107' '108' '109' '110' '111' '112' '115' '198' '201'\n",
      " '202' '203' '208' '298' '304' '305' '306' '307' '310' '311' '313' '398'\n",
      " '403' '404' '405' '406' '407' '408' '410' '411' '412' '413' '414' '415'\n",
      " '421' '423' '424' '425' '426' '428' '429' '430' '432' '498' '504' '601'\n",
      " '605' '607' '610' '698' '704' '705' '706' '708' '709' '710' '711' '712'\n",
      " '713' '714' '719' '798' '809' '898' '914' '915' '916' '998' '1001' '1007'\n",
      " '1013' '1014' '1015' '1017' '1098' '1101' '1102' '1105' '1106' '1108'\n",
      " '1109' '1110' '1112' '1113' '1114' '1116' '1117' '1198' '1215' '1298'\n",
      " '1312' '1407' '1498' '1598' '1601' '1605' '1607' '1609' '1610' '1612'\n",
      " '1614' '1615' '1616' '1617' '1619' '1622' '1623' '1624' '1627' '1628'\n",
      " '1630' '1634' '1636' '1637' '1640' '1698' '1701' '1703' '1704' '1705'\n",
      " '1708' '1709' '1710' '1798' '1801' '1802' '1803' '1804' '1805' '1809'\n",
      " '1810' '1811' '1812' '1813' '1815' '1816' '1817' '1898' '1998'\n",
      " 'hs_cancer_types_histiocytoma' 'hs_cancer_types_mast_cell_tumor'\n",
      " 'hs_cancer_types_unknown']\n"
     ]
    }
   ],
   "source": [
    "youngDogs = pd.read_csv(\"youngDogs.csv\")\n",
    "df = pd.DataFrame(youngDogs)\n",
    "#print(df.head())\n",
    "\n",
    "diseases=df.loc[:,'101':\"hs_cancer_types_unknown\"]\n",
    "\n",
    "diseases=pd.DataFrame(diseases)\n",
    "print(diseases)\n",
    "\n",
    "diseasename=df.loc[0:0,'101':\"hs_cancer_types_unknown\"].keys()\n",
    "\n",
    "diseasename=np.array(diseasename)\n",
    "print(diseasename)\n"
   ]
  },
  {
   "cell_type": "markdown",
   "id": "ed43997b",
   "metadata": {},
   "source": [
    "### Create Contingency tables"
   ]
  },
  {
   "cell_type": "code",
   "execution_count": 69,
   "id": "e572ce20",
   "metadata": {},
   "outputs": [],
   "source": [
    "youngDogs=[]\n",
    "youngDogs_rr=[]\n",
    "youngDogs_pvals=[]\n",
    "\n",
    "cm_list1=[]\n",
    "\n",
    "\n",
    "for i in diseasename:\n",
    "    for j in diseasename:\n",
    "        if(i!=j):\n",
    "            cont_mat=pd.crosstab(index=diseases[i], columns=diseases[j])\n",
    "            cm_list1.append(cont_mat)\n",
    "            youngDogs.append((str(i)+'vs'+str(j)))\n",
    "            \n",
    "cm_list1=np.array(cm_list1)\n",
    "#print(cm_list)\n",
    "youngDogs=np.array(youngDogs)\n"
   ]
  },
  {
   "cell_type": "markdown",
   "id": "9a0c9dad",
   "metadata": {},
   "source": [
    "### Calculate relative risk"
   ]
  },
  {
   "cell_type": "code",
   "execution_count": 70,
   "id": "936ca952",
   "metadata": {},
   "outputs": [],
   "source": [
    "for k in cm_list1:\n",
    "    rr = relative_risk(k[1,1],k[1,1]+k[1,0],k[0,1],k[0,1]+k[0,0])\n",
    "    risk=rr.relative_risk\n",
    "    youngDogs_rr.append(risk)\n",
    "    \n",
    "youngDogs_rr=np.array(youngDogs_rr)\n"
   ]
  },
  {
   "cell_type": "markdown",
   "id": "db401d66",
   "metadata": {},
   "source": [
    "### Calculate p-values using Fisher's exact test"
   ]
  },
  {
   "cell_type": "code",
   "execution_count": 71,
   "id": "f878e144",
   "metadata": {},
   "outputs": [],
   "source": [
    "for m in cm_list1:\n",
    "    res,p=stats.fisher_exact(table=m, alternative='two-sided')\n",
    "    #print(p)\n",
    "    pval=p\n",
    "    youngDogs_pvals.append(pval)\n",
    "\n",
    "\n",
    "youngDogs_pvals=np.array(youngDogs_pvals)"
   ]
  },
  {
   "cell_type": "markdown",
   "id": "bec36fa9",
   "metadata": {},
   "source": [
    "### Join together data"
   ]
  },
  {
   "cell_type": "code",
   "execution_count": 72,
   "id": "2f8cdebc",
   "metadata": {},
   "outputs": [
    {
     "name": "stdout",
     "output_type": "stream",
     "text": [
      "[['101vs102' '0.010083143559823357' '115.09259259259258']\n",
      " ['101vs104' '1.0' '0.0']\n",
      " ['101vs107' '1.0' '0.0']\n",
      " ...\n",
      " ['hs_cancer_types_unknownvs1998' '1.0' '0.0']\n",
      " ['hs_cancer_types_unknownvshs_cancer_types_histiocytoma' '1.0' '0.0']\n",
      " ['hs_cancer_types_unknownvshs_cancer_types_mast_cell_tumor' '1.0' '0.0']]\n"
     ]
    }
   ],
   "source": [
    "youngDogsmod=np.column_stack((youngDogs,youngDogs_pvals,youngDogs_rr))\n",
    "print(youngDogsmod)"
   ]
  },
  {
   "cell_type": "markdown",
   "id": "349696d7",
   "metadata": {},
   "source": [
    "### Sort and store data"
   ]
  },
  {
   "cell_type": "code",
   "execution_count": 73,
   "id": "f0613c43",
   "metadata": {},
   "outputs": [],
   "source": [
    "youngDogs_adj1=[]\n",
    "youngDogs_adj2=[]\n",
    "for i in range(len(youngDogs)):\n",
    "    if (float(youngDogsmod[i][1])<0.001 and float(youngDogsmod[i][2])>2):\n",
    "        youngDogs_adj2.append(youngDogsmod[i])\n",
    "    if (float(youngDogsmod[i][1])<0.001 and float(youngDogsmod[i][2])>1):\n",
    "        youngDogs_adj1.append(youngDogsmod[i])\n",
    "\n",
    "youngDogs_adj1=np.array(youngDogs_adj1)\n",
    "youngDogs_adj2=np.array(youngDogs_adj2)\n",
    "\n",
    "youngDogs_adj2=pd.DataFrame(youngDogs_adj2)\n",
    "\n",
    "youngDogs_adj1=pd.DataFrame(youngDogs_adj1)\n",
    "\n",
    "\n",
    "youngDogs_adj1.to_csv('youngDogs_rr_data_1.csv')\n",
    "youngDogs_adj2.to_csv('youngDogs_rr_data_2.csv')"
   ]
  },
  {
   "cell_type": "markdown",
   "id": "4cff1989",
   "metadata": {},
   "source": [
    "#  SENIOR DOGS"
   ]
  },
  {
   "cell_type": "markdown",
   "id": "fce98678",
   "metadata": {},
   "source": [
    "### Data"
   ]
  },
  {
   "cell_type": "code",
   "execution_count": 77,
   "id": "5e605221",
   "metadata": {},
   "outputs": [
    {
     "name": "stdout",
     "output_type": "stream",
     "text": [
      "      101  102  103  104  107  108  109  110  111  112  ...  \\\n",
      "0       0    0    0    0    0    0    0    0    0    0  ...   \n",
      "1       0    0    0    0    0    0    0    0    0    0  ...   \n",
      "2       0    0    0    0    0    0    0    0    0    0  ...   \n",
      "3       0    1    0    0    0    0    0    0    0    0  ...   \n",
      "4       0    0    0    0    0    0    0    0    0    0  ...   \n",
      "...   ...  ...  ...  ...  ...  ...  ...  ...  ...  ...  ...   \n",
      "6502    0    0    0    0    0    0    0    0    0    0  ...   \n",
      "6503    0    0    0    0    0    0    0    0    0    0  ...   \n",
      "6504    0    0    0    0    0    0    0    0    0    0  ...   \n",
      "6505    0    0    0    0    1    0    0    0    0    0  ...   \n",
      "6506    0    0    0    0    0    0    0    0    0    0  ...   \n",
      "\n",
      "      hs_cancer_types_other  hs_cancer_types_papilloma  \\\n",
      "0                         0                          0   \n",
      "1                         0                          0   \n",
      "2                         0                          0   \n",
      "3                         0                          0   \n",
      "4                         0                          0   \n",
      "...                     ...                        ...   \n",
      "6502                      0                          0   \n",
      "6503                      0                          0   \n",
      "6504                      0                          0   \n",
      "6505                      0                          0   \n",
      "6506                      0                          0   \n",
      "\n",
      "      hs_cancer_types_peripheral_nerve_sheath_tumor  \\\n",
      "0                                                 0   \n",
      "1                                                 0   \n",
      "2                                                 0   \n",
      "3                                                 0   \n",
      "4                                                 0   \n",
      "...                                             ...   \n",
      "6502                                              0   \n",
      "6503                                              0   \n",
      "6504                                              0   \n",
      "6505                                              0   \n",
      "6506                                              0   \n",
      "\n",
      "      hs_cancer_types_plasmacytoma  hs_cancer_types_sarcoma  \\\n",
      "0                                0                        0   \n",
      "1                                0                        0   \n",
      "2                                0                        0   \n",
      "3                                0                        0   \n",
      "4                                0                        0   \n",
      "...                            ...                      ...   \n",
      "6502                             0                        0   \n",
      "6503                             0                        0   \n",
      "6504                             0                        0   \n",
      "6505                             0                        0   \n",
      "6506                             0                        0   \n",
      "\n",
      "      hs_cancer_types_sebaceous_adenoma  hs_cancer_types_soft_tissue_sarcoma  \\\n",
      "0                                     0                                    0   \n",
      "1                                     0                                    0   \n",
      "2                                     0                                    0   \n",
      "3                                     0                                    0   \n",
      "4                                     0                                    0   \n",
      "...                                 ...                                  ...   \n",
      "6502                                  0                                    0   \n",
      "6503                                  0                                    0   \n",
      "6504                                  0                                    0   \n",
      "6505                                  0                                    0   \n",
      "6506                                  0                                    0   \n",
      "\n",
      "      hs_cancer_types_squamous_cell_carcinoma  \\\n",
      "0                                           0   \n",
      "1                                           0   \n",
      "2                                           0   \n",
      "3                                           0   \n",
      "4                                           0   \n",
      "...                                       ...   \n",
      "6502                                        0   \n",
      "6503                                        0   \n",
      "6504                                        0   \n",
      "6505                                        0   \n",
      "6506                                        0   \n",
      "\n",
      "      hs_cancer_types_transitional_cell_carcinoma  hs_cancer_types_unknown  \n",
      "0                                               0                        0  \n",
      "1                                               0                        0  \n",
      "2                                               0                        0  \n",
      "3                                               0                        0  \n",
      "4                                               0                        1  \n",
      "...                                           ...                      ...  \n",
      "6502                                            0                        0  \n",
      "6503                                            0                        0  \n",
      "6504                                            0                        0  \n",
      "6505                                            0                        0  \n",
      "6506                                            0                        0  \n",
      "\n",
      "[6507 rows x 250 columns]\n",
      "['101' '102' '103' '104' '107' '108' '109' '110' '111' '112' '114' '115'\n",
      " '116' '117' '118' '119' '120' '198' '201' '202' '203' '204' '205' '206'\n",
      " '207' '208' '298' '304' '305' '306' '307' '309' '310' '311' '312' '313'\n",
      " '398' '403' '404' '405' '406' '407' '408' '409' '410' '411' '412' '413'\n",
      " '414' '415' '421' '423' '424' '425' '426' '427' '428' '429' '430' '432'\n",
      " '498' '504' '505' '510' '511' '512' '513' '514' '516' '519' '598' '601'\n",
      " '602' '604' '605' '606' '607' '608' '610' '612' '698' '703' '704' '705'\n",
      " '706' '707' '708' '709' '710' '711' '712' '713' '714' '715' '719' '720'\n",
      " '798' '803' '804' '805' '807' '809' '898' '906' '908' '909' '910' '911'\n",
      " '914' '915' '916' '998' '1001' '1005' '1008' '1011' '1012' '1013' '1014'\n",
      " '1015' '1017' '1098' '1102' '1104' '1105' '1106' '1108' '1109' '1110'\n",
      " '1111' '1112' '1113' '1114' '1115' '1117' '1118' '1119' '1198' '1203'\n",
      " '1204' '1205' '1209' '1210' '1211' '1212' '1214' '1215' '1216' '1217'\n",
      " '1298' '1301' '1304' '1305' '1306' '1307' '1308' '1309' '1310' '1311'\n",
      " '1312' '1398' '1407' '1412' '1498' '1598' '1601' '1603' '1604' '1605'\n",
      " '1607' '1609' '1610' '1612' '1613' '1614' '1615' '1616' '1617' '1618'\n",
      " '1619' '1622' '1623' '1626' '1627' '1628' '1630' '1633' '1634' '1636'\n",
      " '1637' '1640' '1698' '1701' '1703' '1704' '1705' '1706' '1707' '1708'\n",
      " '1709' '1710' '1798' '1801' '1802' '1803' '1804' '1805' '1806' '1807'\n",
      " '1808' '1809' '1810' '1811' '1812' '1813' '1814' '1815' '1816' '1817'\n",
      " '1898' '1901' '1902' '1903' '1904' '1905' '1998'\n",
      " 'hs_cancer_types_adenocarcinoma' 'hs_cancer_types_adenoma'\n",
      " 'hs_cancer_types_basal_cell_tumor' 'hs_cancer_types_carcinoma'\n",
      " 'hs_cancer_types_epidermoid_cyst' 'hs_cancer_types_fibrosarcoma'\n",
      " 'hs_cancer_types_hemangioma' 'hs_cancer_types_hemangiosarcoma'\n",
      " 'hs_cancer_types_histiocytoma' 'hs_cancer_types_lipoma'\n",
      " 'hs_cancer_types_lymphoma_lymphosarcoma'\n",
      " 'hs_cancer_types_mast_cell_tumor' 'hs_cancer_types_melanoma'\n",
      " 'hs_cancer_types_osteosarcoma' 'hs_cancer_types_other'\n",
      " 'hs_cancer_types_papilloma'\n",
      " 'hs_cancer_types_peripheral_nerve_sheath_tumor'\n",
      " 'hs_cancer_types_plasmacytoma' 'hs_cancer_types_sarcoma'\n",
      " 'hs_cancer_types_sebaceous_adenoma' 'hs_cancer_types_soft_tissue_sarcoma'\n",
      " 'hs_cancer_types_squamous_cell_carcinoma'\n",
      " 'hs_cancer_types_transitional_cell_carcinoma' 'hs_cancer_types_unknown']\n"
     ]
    }
   ],
   "source": [
    "seniorDogs = pd.read_csv(\"seniorDogs\")\n",
    "df = pd.DataFrame(seniorDogs)\n",
    "#print(df.head())\n",
    "\n",
    "diseases=df.loc[:,'101':\"hs_cancer_types_unknown\"]\n",
    "diseases=pd.DataFrame(diseases)\n",
    "\n",
    "#diseases=np.array(diseases)\n",
    "print(diseases)\n",
    "\n",
    "diseasename=df.loc[0:0,'101':\"hs_cancer_types_unknown\"].keys()\n",
    "diseasename=np.array(diseasename)\n",
    "print(diseasename)"
   ]
  },
  {
   "cell_type": "markdown",
   "id": "87bd0531",
   "metadata": {},
   "source": [
    "### Create Contingency tables"
   ]
  },
  {
   "cell_type": "code",
   "execution_count": 78,
   "id": "d2cfca82",
   "metadata": {},
   "outputs": [],
   "source": [
    "seniorDogs=[]\n",
    "seniorDogs_rr=[]\n",
    "seniorDogs_pvals=[]\n",
    "cm_list2=[]\n",
    "\n",
    "\n",
    "for i in diseasename:\n",
    "    for j in diseasename:\n",
    "        if(i!=j):\n",
    "            cont_mat=pd.crosstab(index=diseases[i], columns=diseases[j])\n",
    "            cm_list2.append(cont_mat)\n",
    "            seniorDogs.append((str(i)+'vs'+str(j)))\n",
    "            \n",
    "cm_list2=np.array(cm_list2)\n",
    "seniorDogs=np.array(seniorDogs)\n"
   ]
  },
  {
   "cell_type": "markdown",
   "id": "c2ab8fd5",
   "metadata": {},
   "source": [
    "### Calculate relative risk"
   ]
  },
  {
   "cell_type": "code",
   "execution_count": 79,
   "id": "98512093",
   "metadata": {},
   "outputs": [],
   "source": [
    "for k in cm_list2:\n",
    "    rr = relative_risk(k[1,1],k[1,1]+k[1,0],k[0,1],k[0,1]+k[0,0])\n",
    "    risk=rr.relative_risk\n",
    "    seniorDogs_rr.append(risk)\n",
    "    \n",
    "\n",
    "seniorDogs_rr=np.array(seniorDogs_rr)\n"
   ]
  },
  {
   "cell_type": "markdown",
   "id": "69d6bd4c",
   "metadata": {},
   "source": [
    "### Calculate p-values using Fisher's exact test"
   ]
  },
  {
   "cell_type": "code",
   "execution_count": 80,
   "id": "b6c1f210",
   "metadata": {},
   "outputs": [],
   "source": [
    "for m in cm_list2:\n",
    "    res,p=stats.fisher_exact(table=m, alternative='two-sided')\n",
    "    #print(p)\n",
    "    pval=p\n",
    "    seniorDogs_pvals.append(pval)\n",
    "    \n",
    "seniorDogs_pvals=np.array(seniorDogs_pvals)\n"
   ]
  },
  {
   "cell_type": "markdown",
   "id": "51d516de",
   "metadata": {},
   "source": [
    "### Join together data"
   ]
  },
  {
   "cell_type": "code",
   "execution_count": 81,
   "id": "27b02e2d",
   "metadata": {},
   "outputs": [
    {
     "name": "stdout",
     "output_type": "stream",
     "text": [
      "[['101vs102' '1.0920623224625153e-18' '2.9261055511733387']\n",
      " ['101vs103' '3.8967426394862793e-26' '17.42373934659091']\n",
      " ['101vs104' '0.002498332173783913' '2.8263392857142855']\n",
      " ...\n",
      " ['hs_cancer_types_unknownvshs_cancer_types_soft_tissue_sarcoma'\n",
      "  '0.07739804219119431' '0.0']\n",
      " ['hs_cancer_types_unknownvshs_cancer_types_squamous_cell_carcinoma'\n",
      "  '1.0' '0.0']\n",
      " ['hs_cancer_types_unknownvshs_cancer_types_transitional_cell_carcinoma'\n",
      "  '1.0' '0.0']]\n"
     ]
    }
   ],
   "source": [
    "seniorDogsmod=np.column_stack((seniorDogs,seniorDogs_pvals,seniorDogs_rr))\n",
    "print(seniorDogsmod)\n"
   ]
  },
  {
   "cell_type": "markdown",
   "id": "6432d088",
   "metadata": {},
   "source": [
    "### Sort and store data"
   ]
  },
  {
   "cell_type": "code",
   "execution_count": 82,
   "id": "08e6e199",
   "metadata": {},
   "outputs": [],
   "source": [
    "seniorDogs_adj1=[]\n",
    "seniorDogs_adj2=[]\n",
    "for i in range(len(seniorDogs)):\n",
    "    if (float(seniorDogsmod[i][1])<0.001 and float(seniorDogsmod[i][2])>2):\n",
    "        seniorDogs_adj2.append(seniorDogsmod[i])\n",
    "    if (float(seniorDogsmod[i][1])<0.001 and float(seniorDogsmod[i][2])>1):\n",
    "        seniorDogs_adj1.append(seniorDogsmod[i])\n",
    "\n",
    "seniorDogs_adj1=np.array(seniorDogs_adj1)\n",
    "seniorDogs_adj2=np.array(seniorDogs_adj2)\n",
    "\n",
    "seniorDogs_adj2=pd.DataFrame(seniorDogs_adj2)\n",
    "\n",
    "seniorDogs_adj1=pd.DataFrame(seniorDogs_adj1)\n",
    "\n",
    "seniorDogs_adj1.to_csv('seniorDogs_rr_data_1.csv')\n",
    "seniorDogs_adj2.to_csv('seniorDogs_rr_data_2.csv')\n"
   ]
  },
  {
   "cell_type": "markdown",
   "id": "6634838d",
   "metadata": {},
   "source": [
    "# NEW MATURE DOGS"
   ]
  },
  {
   "cell_type": "markdown",
   "id": "69506b32",
   "metadata": {},
   "source": [
    "### Data"
   ]
  },
  {
   "cell_type": "code",
   "execution_count": 85,
   "id": "3e392206",
   "metadata": {},
   "outputs": [
    {
     "name": "stdout",
     "output_type": "stream",
     "text": [
      "      101  102  103  104  105  107  108  109  110  111  ...  \\\n",
      "0       0    0    0    0    0    0    0    0    0    0  ...   \n",
      "1       0    0    0    0    0    0    0    0    0    0  ...   \n",
      "2       0    0    0    0    0    0    0    0    0    0  ...   \n",
      "3       0    0    0    0    0    0    0    0    0    0  ...   \n",
      "4       0    0    0    0    0    0    0    0    0    0  ...   \n",
      "...   ...  ...  ...  ...  ...  ...  ...  ...  ...  ...  ...   \n",
      "9836    0    0    0    0    0    0    0    0    0    0  ...   \n",
      "9837    0    0    0    0    0    0    0    0    0    0  ...   \n",
      "9838    0    0    0    0    0    0    0    0    0    0  ...   \n",
      "9839    0    0    0    0    0    0    1    0    0    0  ...   \n",
      "9840    0    0    0    0    0    0    0    0    0    0  ...   \n",
      "\n",
      "      hs_cancer_types_hemangioma  hs_cancer_types_hemangiosarcoma  \\\n",
      "0                              0                                0   \n",
      "1                              0                                0   \n",
      "2                              0                                0   \n",
      "3                              0                                0   \n",
      "4                              0                                0   \n",
      "...                          ...                              ...   \n",
      "9836                           0                                0   \n",
      "9837                           0                                0   \n",
      "9838                           0                                0   \n",
      "9839                           0                                0   \n",
      "9840                           0                                0   \n",
      "\n",
      "      hs_cancer_types_histiocytoma  hs_cancer_types_lipoma  \\\n",
      "0                                0                       0   \n",
      "1                                0                       0   \n",
      "2                                0                       0   \n",
      "3                                0                       0   \n",
      "4                                0                       0   \n",
      "...                            ...                     ...   \n",
      "9836                             0                       0   \n",
      "9837                             0                       0   \n",
      "9838                             0                       0   \n",
      "9839                             0                       0   \n",
      "9840                             0                       0   \n",
      "\n",
      "      hs_cancer_types_lymphoma_lymphosarcoma  hs_cancer_types_mast_cell_tumor  \\\n",
      "0                                          0                                0   \n",
      "1                                          0                                0   \n",
      "2                                          0                                0   \n",
      "3                                          0                                0   \n",
      "4                                          0                                0   \n",
      "...                                      ...                              ...   \n",
      "9836                                       0                                0   \n",
      "9837                                       0                                0   \n",
      "9838                                       0                                0   \n",
      "9839                                       0                                0   \n",
      "9840                                       0                                0   \n",
      "\n",
      "      hs_cancer_types_melanoma  hs_cancer_types_other  \\\n",
      "0                            0                      0   \n",
      "1                            0                      0   \n",
      "2                            0                      0   \n",
      "3                            0                      0   \n",
      "4                            0                      0   \n",
      "...                        ...                    ...   \n",
      "9836                         0                      0   \n",
      "9837                         0                      0   \n",
      "9838                         0                      0   \n",
      "9839                         0                      0   \n",
      "9840                         0                      0   \n",
      "\n",
      "      hs_cancer_types_papilloma  hs_cancer_types_unknown  \n",
      "0                             0                        0  \n",
      "1                             0                        0  \n",
      "2                             0                        0  \n",
      "3                             0                        0  \n",
      "4                             0                        0  \n",
      "...                         ...                      ...  \n",
      "9836                          0                        0  \n",
      "9837                          0                        0  \n",
      "9838                          0                        0  \n",
      "9839                          0                        0  \n",
      "9840                          0                        0  \n",
      "\n",
      "[9841 rows x 208 columns]\n",
      "['101' '102' '103' '104' '105' '107' '108' '109' '110' '111' '112' '114'\n",
      " '115' '116' '118' '120' '198' '201' '202' '203' '204' '205' '206' '208'\n",
      " '298' '301' '302' '303' '304' '305' '306' '307' '310' '311' '313' '398'\n",
      " '403' '404' '405' '406' '407' '408' '409' '410' '411' '412' '414' '415'\n",
      " '421' '423' '424' '425' '426' '428' '429' '430' '432' '498' '501' '504'\n",
      " '510' '511' '512' '518' '519' '598' '601' '602' '604' '605' '606' '607'\n",
      " '610' '612' '698' '703' '704' '705' '706' '707' '708' '709' '710' '711'\n",
      " '712' '713' '714' '715' '719' '798' '804' '809' '898' '906' '908' '910'\n",
      " '911' '914' '915' '916' '998' '1001' '1006' '1007' '1008' '1011' '1013'\n",
      " '1014' '1015' '1016' '1017' '1098' '1102' '1105' '1106' '1108' '1109'\n",
      " '1110' '1111' '1112' '1113' '1114' '1116' '1117' '1118' '1119' '1198'\n",
      " '1210' '1212' '1215' '1217' '1298' '1304' '1306' '1312' '1398' '1407'\n",
      " '1414' '1498' '1598' '1601' '1602' '1603' '1605' '1607' '1609' '1610'\n",
      " '1612' '1613' '1614' '1615' '1616' '1617' '1619' '1622' '1623' '1624'\n",
      " '1626' '1627' '1628' '1630' '1633' '1634' '1637' '1640' '1698' '1701'\n",
      " '1703' '1704' '1705' '1706' '1708' '1709' '1710' '1798' '1801' '1802'\n",
      " '1803' '1804' '1805' '1807' '1808' '1809' '1810' '1811' '1812' '1813'\n",
      " '1814' '1815' '1816' '1817' '1898' '1902' '1905' '1998'\n",
      " 'hs_cancer_types_adenoma' 'hs_cancer_types_basal_cell_tumor'\n",
      " 'hs_cancer_types_epulides' 'hs_cancer_types_hemangioma'\n",
      " 'hs_cancer_types_hemangiosarcoma' 'hs_cancer_types_histiocytoma'\n",
      " 'hs_cancer_types_lipoma' 'hs_cancer_types_lymphoma_lymphosarcoma'\n",
      " 'hs_cancer_types_mast_cell_tumor' 'hs_cancer_types_melanoma'\n",
      " 'hs_cancer_types_other' 'hs_cancer_types_papilloma'\n",
      " 'hs_cancer_types_unknown']\n"
     ]
    }
   ],
   "source": [
    "newmatureDogs = pd.read_csv(\"newmatureDogs.csv\")\n",
    "df = pd.DataFrame(newmatureDogs)\n",
    "#print(df.head())\n",
    "\n",
    "diseases=df.loc[:,'101':\"hs_cancer_types_unknown\"]\n",
    "diseases=pd.DataFrame(diseases)\n",
    "\n",
    "print(diseases)\n",
    "\n",
    "diseasename=df.loc[0:0,'101':\"hs_cancer_types_unknown\"].keys()\n",
    "diseasename=np.array(diseasename)\n",
    "print(diseasename)\n"
   ]
  },
  {
   "cell_type": "markdown",
   "id": "b674fc54",
   "metadata": {},
   "source": [
    "### Create Contingency tables"
   ]
  },
  {
   "cell_type": "code",
   "execution_count": 86,
   "id": "b06697f8",
   "metadata": {},
   "outputs": [],
   "source": [
    "newmatureDogs=[]\n",
    "newmatureDogs_rr=[]\n",
    "newmatureDogs_pvals=[]\n",
    "cm_list3=[]\n",
    "\n",
    "\n",
    "for i in diseasename:\n",
    "    for j in diseasename:\n",
    "        if(i!=j):\n",
    "            cont_mat=pd.crosstab(index=diseases[i], columns=diseases[j])\n",
    "            cm_list3.append(cont_mat)\n",
    "            newmatureDogs.append((str(i)+'vs'+str(j)))\n",
    "            \n",
    "cm_list3=np.array(cm_list3)\n",
    "newmatureDogs=np.array(newmatureDogs)\n"
   ]
  },
  {
   "cell_type": "markdown",
   "id": "7fb6489e",
   "metadata": {},
   "source": [
    "### Calculate relative risk"
   ]
  },
  {
   "cell_type": "code",
   "execution_count": 87,
   "id": "4eeca99a",
   "metadata": {},
   "outputs": [],
   "source": [
    "for k in cm_list3:\n",
    "    rr = relative_risk(k[1,1],k[1,1]+k[1,0],k[0,1],k[0,1]+k[0,0])\n",
    "    risk=rr.relative_risk\n",
    "    newmatureDogs_rr.append(risk)\n",
    "    \n",
    "newmatureDogs_rr=np.array(newmatureDogs_rr)\n"
   ]
  },
  {
   "cell_type": "markdown",
   "id": "34d7f0de",
   "metadata": {},
   "source": [
    "### Calculate p-values using Fisher's exact test"
   ]
  },
  {
   "cell_type": "code",
   "execution_count": 88,
   "id": "0d14f250",
   "metadata": {},
   "outputs": [],
   "source": [
    "for m in cm_list3:\n",
    "    res,p=stats.fisher_exact(table=m, alternative='two-sided')\n",
    "    #print(p)\n",
    "    pval=p\n",
    "    newmatureDogs_pvals.append(pval)\n",
    "\n",
    "newmatureDogs_pvals=np.array(newmatureDogs_pvals)\n"
   ]
  },
  {
   "cell_type": "markdown",
   "id": "77f12021",
   "metadata": {},
   "source": [
    "### Join together data"
   ]
  },
  {
   "cell_type": "code",
   "execution_count": 89,
   "id": "ef62d4fe",
   "metadata": {},
   "outputs": [
    {
     "name": "stdout",
     "output_type": "stream",
     "text": [
      "[['101vs102' '4.524690617474967e-06' '38.05038759689923']\n",
      " ['101vs103' '0.021744842048913603' '51.130208333333336']\n",
      " ['101vs104' '1.0' '0.0']\n",
      " ...\n",
      " ['hs_cancer_types_unknownvshs_cancer_types_melanoma' '1.0' '0.0']\n",
      " ['hs_cancer_types_unknownvshs_cancer_types_other' '1.0' '0.0']\n",
      " ['hs_cancer_types_unknownvshs_cancer_types_papilloma' '1.0' '0.0']]\n"
     ]
    }
   ],
   "source": [
    "newmatureDogsmod=np.column_stack((newmatureDogs,newmatureDogs_pvals,newmatureDogs_rr))\n",
    "print(newmatureDogsmod)\n"
   ]
  },
  {
   "cell_type": "markdown",
   "id": "14534b5c",
   "metadata": {},
   "source": [
    "### Sort and store data"
   ]
  },
  {
   "cell_type": "code",
   "execution_count": 91,
   "id": "fb56e75a",
   "metadata": {},
   "outputs": [],
   "source": [
    "newmatureDogs_adj1=[]\n",
    "newmatureDogs_adj2=[]\n",
    "for i in range(len(newmatureDogs)):\n",
    "    if (float(newmatureDogsmod[i][1])<0.001 and float(newmatureDogsmod[i][2])>2):\n",
    "        newmatureDogs_adj2.append(newmatureDogsmod[i])\n",
    "    if (float(newmatureDogsmod[i][1])<0.001 and float(newmatureDogsmod[i][2])>1):\n",
    "        newmatureDogs_adj1.append(newmatureDogsmod[i])\n",
    "\n",
    "newmatureDogs_adj1=np.array(newmatureDogs_adj1)\n",
    "newmatureDogs_adj2=np.array(newmatureDogs_adj2)\n",
    "\n",
    "newmatureDogs_adj2=pd.DataFrame(newmatureDogs_adj2)\n",
    "\n",
    "newmatureDogs_adj1=pd.DataFrame(newmatureDogs_adj1)\n",
    "\n",
    "newmatureDogs_adj1.to_csv('newmatureDogs_rr_data_1.csv')\n",
    "newmatureDogs_adj2.to_csv('newmatureDogs_rr_data_2.csv')\n"
   ]
  },
  {
   "cell_type": "markdown",
   "id": "97d2ee06",
   "metadata": {},
   "source": [
    "# MATURE DOGS"
   ]
  },
  {
   "cell_type": "markdown",
   "id": "a34b4503",
   "metadata": {},
   "source": [
    "### Data"
   ]
  },
  {
   "cell_type": "code",
   "execution_count": 94,
   "id": "6ce79604",
   "metadata": {},
   "outputs": [
    {
     "name": "stdout",
     "output_type": "stream",
     "text": [
      "      101  102  103  104  107  108  109  110  111  112  ...  \\\n",
      "0       0    0    0    0    0    0    0    0    0    0  ...   \n",
      "1       0    0    0    0    0    0    0    0    0    0  ...   \n",
      "2       0    0    0    0    0    1    0    0    0    0  ...   \n",
      "3       0    0    0    0    0    0    0    0    0    0  ...   \n",
      "4       0    0    0    0    0    0    0    0    0    0  ...   \n",
      "...   ...  ...  ...  ...  ...  ...  ...  ...  ...  ...  ...   \n",
      "9442    0    0    0    0    0    0    0    0    0    0  ...   \n",
      "9443    0    1    0    0    0    0    0    0    0    0  ...   \n",
      "9444    0    0    0    0    0    0    0    0    0    0  ...   \n",
      "9445    0    0    0    0    0    0    0    0    0    0  ...   \n",
      "9446    0    0    0    0    0    0    0    0    0    0  ...   \n",
      "\n",
      "      hs_cancer_types_osteosarcoma  hs_cancer_types_other  \\\n",
      "0                                0                      0   \n",
      "1                                0                      0   \n",
      "2                                0                      0   \n",
      "3                                0                      0   \n",
      "4                                0                      0   \n",
      "...                            ...                    ...   \n",
      "9442                             0                      0   \n",
      "9443                             0                      0   \n",
      "9444                             0                      1   \n",
      "9445                             0                      0   \n",
      "9446                             0                      0   \n",
      "\n",
      "      hs_cancer_types_papilloma  hs_cancer_types_plasmacytoma  \\\n",
      "0                             0                             0   \n",
      "1                             0                             0   \n",
      "2                             0                             0   \n",
      "3                             0                             0   \n",
      "4                             0                             0   \n",
      "...                         ...                           ...   \n",
      "9442                          0                             0   \n",
      "9443                          0                             0   \n",
      "9444                          0                             0   \n",
      "9445                          0                             0   \n",
      "9446                          0                             0   \n",
      "\n",
      "      hs_cancer_types_sarcoma  hs_cancer_types_sebaceous_adenoma  \\\n",
      "0                           0                                  0   \n",
      "1                           0                                  0   \n",
      "2                           0                                  0   \n",
      "3                           0                                  0   \n",
      "4                           0                                  0   \n",
      "...                       ...                                ...   \n",
      "9442                        0                                  0   \n",
      "9443                        0                                  0   \n",
      "9444                        0                                  0   \n",
      "9445                        0                                  0   \n",
      "9446                        0                                  0   \n",
      "\n",
      "      hs_cancer_types_soft_tissue_sarcoma  \\\n",
      "0                                       0   \n",
      "1                                       0   \n",
      "2                                       0   \n",
      "3                                       0   \n",
      "4                                       0   \n",
      "...                                   ...   \n",
      "9442                                    0   \n",
      "9443                                    0   \n",
      "9444                                    0   \n",
      "9445                                    0   \n",
      "9446                                    0   \n",
      "\n",
      "      hs_cancer_types_squamous_cell_carcinoma  \\\n",
      "0                                           0   \n",
      "1                                           0   \n",
      "2                                           0   \n",
      "3                                           0   \n",
      "4                                           0   \n",
      "...                                       ...   \n",
      "9442                                        0   \n",
      "9443                                        0   \n",
      "9444                                        0   \n",
      "9445                                        0   \n",
      "9446                                        0   \n",
      "\n",
      "      hs_cancer_types_transitional_cell_carcinoma  hs_cancer_types_unknown  \n",
      "0                                               0                        0  \n",
      "1                                               0                        0  \n",
      "2                                               0                        0  \n",
      "3                                               0                        0  \n",
      "4                                               0                        0  \n",
      "...                                           ...                      ...  \n",
      "9442                                            0                        0  \n",
      "9443                                            0                        0  \n",
      "9444                                            0                        0  \n",
      "9445                                            0                        0  \n",
      "9446                                            0                        0  \n",
      "\n",
      "[9447 rows x 254 columns]\n",
      "['101' '102' '103' '104' '107' '108' '109' '110' '111' '112' '114' '115'\n",
      " '116' '117' '118' '119' '120' '198' '201' '202' '203' '204' '205' '206'\n",
      " '208' '209' '298' '303' '304' '305' '306' '307' '309' '310' '311' '313'\n",
      " '398' '403' '404' '405' '406' '407' '408' '409' '410' '411' '412' '414'\n",
      " '415' '419' '421' '423' '424' '425' '426' '427' '428' '429' '430' '432'\n",
      " '498' '501' '503' '504' '507' '510' '511' '512' '514' '516' '518' '519'\n",
      " '598' '601' '602' '604' '605' '606' '607' '608' '610' '612' '698' '703'\n",
      " '704' '705' '706' '707' '708' '709' '710' '711' '712' '713' '714' '715'\n",
      " '717' '718' '719' '798' '801' '802' '803' '804' '805' '807' '809' '898'\n",
      " '906' '908' '909' '910' '911' '914' '915' '916' '998' '1001' '1005'\n",
      " '1007' '1008' '1010' '1011' '1013' '1014' '1015' '1017' '1098' '1101'\n",
      " '1102' '1103' '1104' '1105' '1106' '1108' '1109' '1110' '1111' '1112'\n",
      " '1113' '1114' '1116' '1117' '1118' '1119' '1198' '1204' '1205' '1208'\n",
      " '1209' '1210' '1211' '1212' '1215' '1216' '1217' '1298' '1304' '1305'\n",
      " '1306' '1307' '1310' '1311' '1312' '1398' '1407' '1414' '1416' '1498'\n",
      " '1598' '1601' '1603' '1605' '1607' '1609' '1610' '1611' '1612' '1613'\n",
      " '1614' '1615' '1616' '1617' '1618' '1619' '1622' '1623' '1626' '1627'\n",
      " '1628' '1629' '1630' '1633' '1634' '1636' '1637' '1640' '1698' '1701'\n",
      " '1703' '1704' '1705' '1706' '1707' '1708' '1709' '1710' '1798' '1801'\n",
      " '1802' '1803' '1804' '1805' '1806' '1808' '1809' '1810' '1811' '1812'\n",
      " '1813' '1814' '1815' '1816' '1817' '1898' '1902' '1903' '1904' '1905'\n",
      " '1998' 'hs_cancer_types_adenocarcinoma' 'hs_cancer_types_adenoma'\n",
      " 'hs_cancer_types_basal_cell_tumor' 'hs_cancer_types_carcinoma'\n",
      " 'hs_cancer_types_epidermoid_cyst' 'hs_cancer_types_epulides'\n",
      " 'hs_cancer_types_fibrosarcoma' 'hs_cancer_types_hemangioma'\n",
      " 'hs_cancer_types_hemangiosarcoma' 'hs_cancer_types_histiocytoma'\n",
      " 'hs_cancer_types_lipoma' 'hs_cancer_types_lymphoma_lymphosarcoma'\n",
      " 'hs_cancer_types_mast_cell_tumor' 'hs_cancer_types_melanoma'\n",
      " 'hs_cancer_types_osteosarcoma' 'hs_cancer_types_other'\n",
      " 'hs_cancer_types_papilloma' 'hs_cancer_types_plasmacytoma'\n",
      " 'hs_cancer_types_sarcoma' 'hs_cancer_types_sebaceous_adenoma'\n",
      " 'hs_cancer_types_soft_tissue_sarcoma'\n",
      " 'hs_cancer_types_squamous_cell_carcinoma'\n",
      " 'hs_cancer_types_transitional_cell_carcinoma' 'hs_cancer_types_unknown']\n"
     ]
    }
   ],
   "source": [
    "matureDogs = pd.read_csv(\"matureDogs\")\n",
    "df = pd.DataFrame(matureDogs)\n",
    "#print(df.head())\n",
    "\n",
    "diseases=df.loc[:,'101':\"hs_cancer_types_unknown\"]\n",
    "diseases=pd.DataFrame(diseases)\n",
    "\n",
    "print(diseases)\n",
    "\n",
    "diseasename=df.loc[0:0,'101':\"hs_cancer_types_unknown\"].keys()\n",
    "diseasename=np.array(diseasename)\n",
    "print(diseasename)\n"
   ]
  },
  {
   "cell_type": "markdown",
   "id": "e143805b",
   "metadata": {},
   "source": [
    "### Create Contingency tables"
   ]
  },
  {
   "cell_type": "code",
   "execution_count": 95,
   "id": "378c73fd",
   "metadata": {},
   "outputs": [],
   "source": [
    "matureDogs=[]\n",
    "matureDogs_rr=[]\n",
    "matureDogs_pvals=[]\n",
    "\n",
    "cm_list4=[]\n",
    "\n",
    "\n",
    "for i in diseasename:\n",
    "    for j in diseasename:\n",
    "        if(i!=j):\n",
    "            cont_mat=pd.crosstab(index=diseases[i], columns=diseases[j])\n",
    "            cm_list4.append(cont_mat)\n",
    "            matureDogs.append((str(i)+'vs'+str(j)))\n",
    "            \n",
    "cm_list4=np.array(cm_list4)\n",
    "matureDogs=np.array(matureDogs)\n"
   ]
  },
  {
   "cell_type": "markdown",
   "id": "4feeadac",
   "metadata": {},
   "source": [
    "### Calculate relative risk"
   ]
  },
  {
   "cell_type": "code",
   "execution_count": 96,
   "id": "320e8bba",
   "metadata": {},
   "outputs": [],
   "source": [
    "for k in cm_list4:\n",
    "    rr = relative_risk(k[1,1],k[1,1]+k[1,0],k[0,1],k[0,1]+k[0,0])\n",
    "    risk=rr.relative_risk\n",
    "    matureDogs_rr.append(risk)\n",
    "    \n",
    "matureDogs_rr=np.array(matureDogs_rr)\n"
   ]
  },
  {
   "cell_type": "markdown",
   "id": "f839d638",
   "metadata": {},
   "source": [
    "### Calculate p-values using Fisher's exact test"
   ]
  },
  {
   "cell_type": "code",
   "execution_count": null,
   "id": "08469b61",
   "metadata": {},
   "outputs": [],
   "source": [
    "for m in cm_list:\n",
    "    res=stats.boschloo_exact(table=m, alternative='two-sided')\n",
    "    pval=res.pvalue\n",
    "    matureDogs_pvals.append(pval)\n",
    "\n",
    "matureDogs_pvals=np.array(matureDogs_pvals)\n"
   ]
  },
  {
   "cell_type": "markdown",
   "id": "c3a855fa",
   "metadata": {},
   "source": [
    "### Join together data"
   ]
  },
  {
   "cell_type": "code",
   "execution_count": 98,
   "id": "5d3b323d",
   "metadata": {},
   "outputs": [
    {
     "name": "stdout",
     "output_type": "stream",
     "text": [
      "[['101vs102' '5.67378160973904e-23' '10.678082191780822']\n",
      " ['101vs103' '4.0039491473177326e-13' '43.73071528751753']\n",
      " ['101vs104' '0.0011993435332832258' '5.247685834502104']\n",
      " ...\n",
      " ['hs_cancer_types_unknownvshs_cancer_types_soft_tissue_sarcoma' '1.0'\n",
      "  '0.0']\n",
      " ['hs_cancer_types_unknownvshs_cancer_types_squamous_cell_carcinoma'\n",
      "  '1.0' '0.0']\n",
      " ['hs_cancer_types_unknownvshs_cancer_types_transitional_cell_carcinoma'\n",
      "  '1.0' '0.0']]\n"
     ]
    }
   ],
   "source": [
    "matureDogsmod=np.column_stack((matureDogs,matureDogs_pvals,matureDogs_rr))\n",
    "print(matureDogsmod)"
   ]
  },
  {
   "cell_type": "markdown",
   "id": "bf54ad62",
   "metadata": {},
   "source": [
    "### Sort and store data"
   ]
  },
  {
   "cell_type": "code",
   "execution_count": 99,
   "id": "40c08220",
   "metadata": {},
   "outputs": [],
   "source": [
    "matureDogs_adj1=[]\n",
    "matureDogs_adj2=[]\n",
    "for i in range(len(matureDogs)):\n",
    "    if (float(matureDogsmod[i][1])<0.001 and float(matureDogsmod[i][2])>2):\n",
    "        matureDogs_adj2.append(matureDogsmod[i])\n",
    "    if (float(matureDogsmod[i][1])<0.001 and float(matureDogsmod[i][2])>1):\n",
    "        matureDogs_adj1.append(matureDogsmod[i])\n",
    "\n",
    "matureDogs_adj1=np.array(matureDogs_adj1)\n",
    "matureDogs_adj2=np.array(matureDogs_adj2)\n",
    "\n",
    "matureDogs_adj2=pd.DataFrame(matureDogs_adj2)\n",
    "matureDogs_adj1=pd.DataFrame(matureDogs_adj1)\n",
    "\n",
    "matureDogs_adj1.to_csv('matureDogs_rr_data_1.csv')\n",
    "matureDogs_adj2.to_csv('matureDogs_rr_data_2.csv')\n"
   ]
  }
 ],
 "metadata": {
  "kernelspec": {
   "display_name": "Python 3 (ipykernel)",
   "language": "python",
   "name": "python3"
  },
  "language_info": {
   "codemirror_mode": {
    "name": "ipython",
    "version": 3
   },
   "file_extension": ".py",
   "mimetype": "text/x-python",
   "name": "python",
   "nbconvert_exporter": "python",
   "pygments_lexer": "ipython3",
   "version": "3.9.13"
  }
 },
 "nbformat": 4,
 "nbformat_minor": 5
}
